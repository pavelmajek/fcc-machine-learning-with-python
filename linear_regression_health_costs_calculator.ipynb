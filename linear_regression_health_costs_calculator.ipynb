{
  "cells": [
    {
      "cell_type": "markdown",
      "metadata": {
        "id": "view-in-github",
        "colab_type": "text"
      },
      "source": [
        "<a href=\"https://colab.research.google.com/github/pavelmajek/fcc-machine-learning-with-python/blob/main/linear_regression_health_costs_calculator.ipynb\" target=\"_parent\"><img src=\"https://colab.research.google.com/assets/colab-badge.svg\" alt=\"Open In Colab\"/></a>"
      ]
    },
    {
      "cell_type": "code",
      "execution_count": null,
      "metadata": {
        "id": "1rRo8oNqZ-Rj"
      },
      "outputs": [],
      "source": [
        "# Import libraries. You may or may not use all of these.\n",
        "!pip install -q git+https://github.com/tensorflow/docs\n",
        "import matplotlib.pyplot as plt\n",
        "import numpy as np\n",
        "import pandas as pd\n",
        "\n",
        "try:\n",
        "  # %tensorflow_version only exists in Colab.\n",
        "  %tensorflow_version 2.x\n",
        "except Exception:\n",
        "  pass\n",
        "import tensorflow as tf\n",
        "\n",
        "from tensorflow import keras\n",
        "from tensorflow.keras import layers\n",
        "\n",
        "import tensorflow_docs as tfdocs\n",
        "import tensorflow_docs.plots\n",
        "import tensorflow_docs.modeling"
      ]
    },
    {
      "cell_type": "code",
      "execution_count": null,
      "metadata": {
        "id": "CiX2FI4gZtTt"
      },
      "outputs": [],
      "source": [
        "# Import data\n",
        "!wget https://cdn.freecodecamp.org/project-data/health-costs/insurance.csv\n",
        "dataset = pd.read_csv('insurance.csv')\n",
        "dataset.tail()"
      ]
    },
    {
      "cell_type": "code",
      "execution_count": null,
      "metadata": {
        "id": "LcopvQh3X-kX"
      },
      "outputs": [],
      "source": [
        "# formatting the data\n",
        "data_formatting = pd.read_csv(\"insurance.csv\")\n",
        "data_formatting[\"sex\"] = data_formatting[\"sex\"].replace({'female': 0, 'male': 1})\n",
        "data_formatting[\"smoker\"] = data_formatting[\"smoker\"].replace({'no': 0, 'yes': 1})\n",
        "print(data_formatting[\"region\"].value_counts())\n",
        "data_formatting[\"region\"] = data_formatting[\"region\"].replace({'southeast': 0, 'southwest': 1, 'northwest': 2, 'northeast': 3})\n",
        "data_formatting"
      ]
    },
    {
      "cell_type": "code",
      "source": [
        "# splitting the datasets\n",
        "from sklearn.model_selection import train_test_split\n",
        "\n",
        "train_dataset, test_dataset = train_test_split(data_formatting, test_size=0.2, random_state=34)\n",
        "pop_train = train_dataset.pop(\"expenses\")\n",
        "train_labels = pd.DataFrame(pop_train)\n",
        "pop_test = test_dataset.pop(\"expenses\")\n",
        "test_labels = pd.DataFrame(pop_test)"
      ],
      "metadata": {
        "id": "mnOe3D1cJoBG"
      },
      "execution_count": null,
      "outputs": []
    },
    {
      "cell_type": "code",
      "source": [
        "# normalizing data\n",
        "from sklearn.preprocessing import MinMaxScaler\n",
        "scaler = MinMaxScaler()\n",
        "\n",
        "numerical_cols = ['age', 'bmi', 'children']\n",
        "train_numerical_data = train_dataset[numerical_cols]\n",
        "test_numerical_data = test_dataset[numerical_cols]\n",
        "\n",
        "train_normalized_data = scaler.fit_transform(train_numerical_data)\n",
        "test_normalized_data = scaler.fit_transform(test_numerical_data)\n",
        "\n",
        "train_dataset[['age', 'bmi', 'children']] = train_normalized_data\n",
        "test_dataset[['age', 'bmi', 'children']] = test_normalized_data"
      ],
      "metadata": {
        "id": "y0aQjH7NMxAB"
      },
      "execution_count": null,
      "outputs": []
    },
    {
      "cell_type": "code",
      "source": [
        "# creating the model\n",
        "\n",
        "model = tf.keras.models.Sequential()\n",
        "model.add(layers.Dense(units=64, activation='relu'))\n",
        "model.add(layers.Dense(units=64, activation='relu'))\n",
        "model.add(layers.Dense(units=1))\n",
        "\n",
        "model.compile(optimizer='adam', loss='mean_absolute_error', metrics=['mean_absolute_error', 'mean_squared_error'])\n",
        "\n",
        "history = model.fit(train_dataset, train_labels, epochs=150, validation_data=(test_dataset, test_labels), verbose=1)\n"
      ],
      "metadata": {
        "id": "2N3gQdjCIW7G"
      },
      "execution_count": null,
      "outputs": []
    },
    {
      "cell_type": "code",
      "execution_count": null,
      "metadata": {
        "id": "Xe7RXH3N3CWU"
      },
      "outputs": [],
      "source": [
        "# RUN THIS CELL TO TEST YOUR MODEL. DO NOT MODIFY CONTENTS.\n",
        "# Test model by checking how well the model generalizes using the test set.\n",
        "loss, mae, mse = model.evaluate(test_dataset, test_labels, verbose=2)\n",
        "\n",
        "print(\"Testing set Mean Abs Error: {:5.2f} expenses\".format(mae))\n",
        "\n",
        "if mae < 3500:\n",
        "  print(\"You passed the challenge. Great job!\")\n",
        "else:\n",
        "  print(\"The Mean Abs Error must be less than 3500. Keep trying.\")\n",
        "\n",
        "# Plot predictions.\n",
        "test_predictions = model.predict(test_dataset).flatten()\n",
        "\n",
        "a = plt.axes(aspect='equal')\n",
        "plt.scatter(test_labels, test_predictions)\n",
        "plt.xlabel('True values (expenses)')\n",
        "plt.ylabel('Predictions (expenses)')\n",
        "lims = [0, 50000]\n",
        "plt.xlim(lims)\n",
        "plt.ylim(lims)\n",
        "_ = plt.plot(lims,lims)\n"
      ]
    }
  ],
  "metadata": {
    "colab": {
      "private_outputs": true,
      "provenance": [],
      "toc_visible": true,
      "gpuType": "T4",
      "include_colab_link": true
    },
    "kernelspec": {
      "display_name": "Python 3",
      "name": "python3"
    },
    "accelerator": "GPU"
  },
  "nbformat": 4,
  "nbformat_minor": 0
}